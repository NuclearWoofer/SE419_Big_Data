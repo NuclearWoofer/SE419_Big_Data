{
 "cells": [
  {
   "cell_type": "code",
   "execution_count": 1,
   "id": "84c1e32c",
   "metadata": {},
   "outputs": [],
   "source": [
    "from sqlalchemy import MetaData\n",
    "metaData = MetaData()"
   ]
  },
  {
   "cell_type": "code",
   "execution_count": 2,
   "id": "97f59eeb",
   "metadata": {},
   "outputs": [],
   "source": [
    "from datetime import datetime"
   ]
  },
  {
   "cell_type": "code",
   "execution_count": 4,
   "id": "fc534ebf",
   "metadata": {},
   "outputs": [],
   "source": [
    "from sqlalchemy import Table, Column, Integer, Numeric, String, ForeignKey,DateTime"
   ]
  },
  {
   "cell_type": "code",
   "execution_count": 5,
   "id": "9813a32e",
   "metadata": {},
   "outputs": [],
   "source": [
    "from sqlalchemy import create_engine"
   ]
  },
  {
   "cell_type": "code",
   "execution_count": 6,
   "id": "f5aa8eea",
   "metadata": {},
   "outputs": [],
   "source": [
    "engine = create_engine('sqlite:///:memory:')"
   ]
  },
  {
   "cell_type": "code",
   "execution_count": 10,
   "id": "1c5f739a",
   "metadata": {},
   "outputs": [],
   "source": [
    "cookies = Table('cookies', metaData,\n",
    "               Column('cookie_id',Integer(),primary_key=True),\n",
    "               Column('cookie_name',String(50),index=True),\n",
    "               Column('cookie_recipe_url',String(255)),\n",
    "               Column('cookieSKU',String(55)),\n",
    "               Column('qty',Integer()),\n",
    "               Column('unitCost',Numeric(12,2))\n",
    ")"
   ]
  },
  {
   "cell_type": "code",
   "execution_count": 12,
   "id": "f13907cb",
   "metadata": {},
   "outputs": [],
   "source": [
    "users = Table('users', metaData,\n",
    "               Column('user_id',Integer(),primary_key=True),\n",
    "               Column('username',String(50), unique=True,nullable=False),\n",
    "               Column('email',String(250), nullable=False),\n",
    "               Column('phone',String(50), nullable=False),\n",
    "               Column('password',String(50), nullable=False),\n",
    "               Column('createdOn',DateTime(), default=datetime.now),\n",
    "               Column('updatedOn',DateTime(), default=datetime.now, onupdate=datetime.now)\n",
    "\n",
    ")"
   ]
  },
  {
   "cell_type": "code",
   "execution_count": 15,
   "id": "c3630b95",
   "metadata": {},
   "outputs": [],
   "source": [
    "orders = Table('orders', metaData,\n",
    "               Column('orderID',Integer(),primary_key=True),\n",
    "               Column('user_id',ForeignKey('users.user_id')),\n",
    ")\n",
    "line_items = Table('line_items',metaData,\n",
    "               Column('lineitemsId',Integer(),primary_key=True),\n",
    "               Column('orderID',ForeignKey('orders.orderID')),\n",
    "               Column('cookie_id',ForeignKey('cookies.cookie_id')),\n",
    "               Column('qty',Integer()),\n",
    "               Column('extendedCost',Numeric(12,2))\n",
    ")"
   ]
  },
  {
   "cell_type": "code",
   "execution_count": 16,
   "id": "45722a19",
   "metadata": {},
   "outputs": [
    {
     "name": "stdout",
     "output_type": "stream",
     "text": [
      "Here we are seeing SQL libraries being imported at the start of this program. We are importing things needed to create SQL tables. \n",
      "Soon after, four tables are created: Cookies, Users, Line Items and Orders. We see that the last two tables are referencing the first two tables using foreign keys to gather shared information from one another. Each table has a set of columns created with Intger, String, DateTime columns and etc.\n"
     ]
    }
   ],
   "source": [
    "print(\"Here we are seeing SQL libraries being imported at the start of this program. We are importing things needed to create SQL tables. \\nSoon after, four tables are created: Cookies, Users, Line Items and Orders. We see that the last two tables are referencing the first two tables using foreign keys to gather shared information from one another. Each table has a set of columns created with Intger, String, DateTime columns and etc.\")"
   ]
  },
  {
   "cell_type": "code",
   "execution_count": 17,
   "id": "62bcd897",
   "metadata": {},
   "outputs": [
    {
     "name": "stdout",
     "output_type": "stream",
     "text": [
      "Michael Lopez\n"
     ]
    }
   ],
   "source": [
    "print(\"Michael Lopez\")"
   ]
  },
  {
   "cell_type": "code",
   "execution_count": null,
   "id": "6e2f3685",
   "metadata": {},
   "outputs": [],
   "source": []
  }
 ],
 "metadata": {
  "kernelspec": {
   "display_name": "Python 3 (ipykernel)",
   "language": "python",
   "name": "python3"
  },
  "language_info": {
   "codemirror_mode": {
    "name": "ipython",
    "version": 3
   },
   "file_extension": ".py",
   "mimetype": "text/x-python",
   "name": "python",
   "nbconvert_exporter": "python",
   "pygments_lexer": "ipython3",
   "version": "3.10.9"
  }
 },
 "nbformat": 4,
 "nbformat_minor": 5
}
